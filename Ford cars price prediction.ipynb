{
 "cells": [
  {
   "cell_type": "markdown",
   "id": "869817a0",
   "metadata": {},
   "source": [
    "# Price prediction and analysis of used Ford vehicles"
   ]
  },
  {
   "cell_type": "markdown",
   "id": "16ffff1e",
   "metadata": {},
   "source": [
    "## Importing Libraries"
   ]
  },
  {
   "cell_type": "code",
   "execution_count": 2,
   "id": "c1365bf6",
   "metadata": {},
   "outputs": [],
   "source": [
    "# Numerical and visualization libraries\n",
    "import pandas as pd\n",
    "import numpy as np\n",
    "import matplotlib.pyplot as plt"
   ]
  },
  {
   "cell_type": "code",
   "execution_count": 23,
   "id": "f3db0d80",
   "metadata": {},
   "outputs": [],
   "source": [
    "# Styling libraries\n",
    "from matplotlib import style\n",
    "style.use('seaborn')\n",
    "import seaborn as sns"
   ]
  },
  {
   "cell_type": "code",
   "execution_count": 4,
   "id": "7e12307e",
   "metadata": {},
   "outputs": [],
   "source": [
    "# Training and testing libraries\n",
    "from sklearn.model_selection import train_test_split"
   ]
  },
  {
   "cell_type": "code",
   "execution_count": 5,
   "id": "b9b0eee0",
   "metadata": {},
   "outputs": [],
   "source": [
    "# Scaling library\n",
    "from sklearn.preprocessing import StandardScaler"
   ]
  },
  {
   "cell_type": "code",
   "execution_count": 6,
   "id": "26c78aa6",
   "metadata": {},
   "outputs": [],
   "source": [
    "# Predictive regression models libraries\n",
    "from sklearn.linear_model import LinearRegression\n",
    "from sklearn.tree import DecisionTreeRegressor\n",
    "from xgboost import XGBRegressor"
   ]
  },
  {
   "cell_type": "code",
   "execution_count": 7,
   "id": "9ae8a741",
   "metadata": {},
   "outputs": [],
   "source": [
    "# Performance metrics libraries\n",
    "from sklearn.metrics import mean_absolute_error, r2_score\n",
    "from sklearn.model_selection import cross_val_score"
   ]
  },
  {
   "cell_type": "markdown",
   "id": "32dc050c",
   "metadata": {},
   "source": [
    "## Importing dataset obtained from \"https://www.kaggle.com/datasets/adhurimquku/ford-car-price-prediction\""
   ]
  },
  {
   "cell_type": "code",
   "execution_count": 9,
   "id": "12f4b037",
   "metadata": {},
   "outputs": [],
   "source": [
    "df = pd.read_csv(\"./ford.csv\")"
   ]
  },
  {
   "cell_type": "code",
   "execution_count": 10,
   "id": "4988e227",
   "metadata": {},
   "outputs": [
    {
     "data": {
      "text/html": [
       "<div>\n",
       "<style scoped>\n",
       "    .dataframe tbody tr th:only-of-type {\n",
       "        vertical-align: middle;\n",
       "    }\n",
       "\n",
       "    .dataframe tbody tr th {\n",
       "        vertical-align: top;\n",
       "    }\n",
       "\n",
       "    .dataframe thead th {\n",
       "        text-align: right;\n",
       "    }\n",
       "</style>\n",
       "<table border=\"1\" class=\"dataframe\">\n",
       "  <thead>\n",
       "    <tr style=\"text-align: right;\">\n",
       "      <th></th>\n",
       "      <th>model</th>\n",
       "      <th>year</th>\n",
       "      <th>price</th>\n",
       "      <th>transmission</th>\n",
       "      <th>mileage</th>\n",
       "      <th>fuelType</th>\n",
       "      <th>tax</th>\n",
       "      <th>mpg</th>\n",
       "      <th>engineSize</th>\n",
       "    </tr>\n",
       "  </thead>\n",
       "  <tbody>\n",
       "    <tr>\n",
       "      <th>0</th>\n",
       "      <td>Fiesta</td>\n",
       "      <td>2017</td>\n",
       "      <td>12000</td>\n",
       "      <td>Automatic</td>\n",
       "      <td>15944</td>\n",
       "      <td>Petrol</td>\n",
       "      <td>150</td>\n",
       "      <td>57.7</td>\n",
       "      <td>1.0</td>\n",
       "    </tr>\n",
       "    <tr>\n",
       "      <th>1</th>\n",
       "      <td>Focus</td>\n",
       "      <td>2018</td>\n",
       "      <td>14000</td>\n",
       "      <td>Manual</td>\n",
       "      <td>9083</td>\n",
       "      <td>Petrol</td>\n",
       "      <td>150</td>\n",
       "      <td>57.7</td>\n",
       "      <td>1.0</td>\n",
       "    </tr>\n",
       "    <tr>\n",
       "      <th>2</th>\n",
       "      <td>Focus</td>\n",
       "      <td>2017</td>\n",
       "      <td>13000</td>\n",
       "      <td>Manual</td>\n",
       "      <td>12456</td>\n",
       "      <td>Petrol</td>\n",
       "      <td>150</td>\n",
       "      <td>57.7</td>\n",
       "      <td>1.0</td>\n",
       "    </tr>\n",
       "    <tr>\n",
       "      <th>3</th>\n",
       "      <td>Fiesta</td>\n",
       "      <td>2019</td>\n",
       "      <td>17500</td>\n",
       "      <td>Manual</td>\n",
       "      <td>10460</td>\n",
       "      <td>Petrol</td>\n",
       "      <td>145</td>\n",
       "      <td>40.3</td>\n",
       "      <td>1.5</td>\n",
       "    </tr>\n",
       "    <tr>\n",
       "      <th>4</th>\n",
       "      <td>Fiesta</td>\n",
       "      <td>2019</td>\n",
       "      <td>16500</td>\n",
       "      <td>Automatic</td>\n",
       "      <td>1482</td>\n",
       "      <td>Petrol</td>\n",
       "      <td>145</td>\n",
       "      <td>48.7</td>\n",
       "      <td>1.0</td>\n",
       "    </tr>\n",
       "  </tbody>\n",
       "</table>\n",
       "</div>"
      ],
      "text/plain": [
       "     model  year  price transmission  mileage fuelType  tax   mpg  engineSize\n",
       "0   Fiesta  2017  12000    Automatic    15944   Petrol  150  57.7         1.0\n",
       "1    Focus  2018  14000       Manual     9083   Petrol  150  57.7         1.0\n",
       "2    Focus  2017  13000       Manual    12456   Petrol  150  57.7         1.0\n",
       "3   Fiesta  2019  17500       Manual    10460   Petrol  145  40.3         1.5\n",
       "4   Fiesta  2019  16500    Automatic     1482   Petrol  145  48.7         1.0"
      ]
     },
     "execution_count": 10,
     "metadata": {},
     "output_type": "execute_result"
    }
   ],
   "source": [
    "df.head()"
   ]
  },
  {
   "cell_type": "code",
   "execution_count": 19,
   "id": "2030c0b8",
   "metadata": {},
   "outputs": [
    {
     "name": "stdout",
     "output_type": "stream",
     "text": [
      "<class 'pandas.core.frame.DataFrame'>\n",
      "RangeIndex: 17966 entries, 0 to 17965\n",
      "Data columns (total 9 columns):\n",
      " #   Column        Non-Null Count  Dtype  \n",
      "---  ------        --------------  -----  \n",
      " 0   model         17966 non-null  object \n",
      " 1   year          17966 non-null  int64  \n",
      " 2   price         17966 non-null  int64  \n",
      " 3   transmission  17966 non-null  object \n",
      " 4   mileage       17966 non-null  int64  \n",
      " 5   fuelType      17966 non-null  object \n",
      " 6   tax           17966 non-null  int64  \n",
      " 7   mpg           17966 non-null  float64\n",
      " 8   engineSize    17966 non-null  float64\n",
      "dtypes: float64(2), int64(4), object(3)\n",
      "memory usage: 1.2+ MB\n"
     ]
    }
   ],
   "source": [
    "# information about the dataset\n",
    "df.info()"
   ]
  },
  {
   "cell_type": "code",
   "execution_count": 20,
   "id": "a403d9b5",
   "metadata": {},
   "outputs": [
    {
     "data": {
      "text/html": [
       "<div>\n",
       "<style scoped>\n",
       "    .dataframe tbody tr th:only-of-type {\n",
       "        vertical-align: middle;\n",
       "    }\n",
       "\n",
       "    .dataframe tbody tr th {\n",
       "        vertical-align: top;\n",
       "    }\n",
       "\n",
       "    .dataframe thead th {\n",
       "        text-align: right;\n",
       "    }\n",
       "</style>\n",
       "<table border=\"1\" class=\"dataframe\">\n",
       "  <thead>\n",
       "    <tr style=\"text-align: right;\">\n",
       "      <th></th>\n",
       "      <th>year</th>\n",
       "      <th>price</th>\n",
       "      <th>mileage</th>\n",
       "      <th>tax</th>\n",
       "      <th>mpg</th>\n",
       "      <th>engineSize</th>\n",
       "    </tr>\n",
       "  </thead>\n",
       "  <tbody>\n",
       "    <tr>\n",
       "      <th>count</th>\n",
       "      <td>17966.000000</td>\n",
       "      <td>17966.000000</td>\n",
       "      <td>17966.000000</td>\n",
       "      <td>17966.000000</td>\n",
       "      <td>17966.000000</td>\n",
       "      <td>17966.000000</td>\n",
       "    </tr>\n",
       "    <tr>\n",
       "      <th>mean</th>\n",
       "      <td>2016.866470</td>\n",
       "      <td>12279.534844</td>\n",
       "      <td>23362.608761</td>\n",
       "      <td>113.329456</td>\n",
       "      <td>57.906980</td>\n",
       "      <td>1.350807</td>\n",
       "    </tr>\n",
       "    <tr>\n",
       "      <th>std</th>\n",
       "      <td>2.050336</td>\n",
       "      <td>4741.343657</td>\n",
       "      <td>19472.054349</td>\n",
       "      <td>62.012456</td>\n",
       "      <td>10.125696</td>\n",
       "      <td>0.432367</td>\n",
       "    </tr>\n",
       "    <tr>\n",
       "      <th>min</th>\n",
       "      <td>1996.000000</td>\n",
       "      <td>495.000000</td>\n",
       "      <td>1.000000</td>\n",
       "      <td>0.000000</td>\n",
       "      <td>20.800000</td>\n",
       "      <td>0.000000</td>\n",
       "    </tr>\n",
       "    <tr>\n",
       "      <th>25%</th>\n",
       "      <td>2016.000000</td>\n",
       "      <td>8999.000000</td>\n",
       "      <td>9987.000000</td>\n",
       "      <td>30.000000</td>\n",
       "      <td>52.300000</td>\n",
       "      <td>1.000000</td>\n",
       "    </tr>\n",
       "    <tr>\n",
       "      <th>50%</th>\n",
       "      <td>2017.000000</td>\n",
       "      <td>11291.000000</td>\n",
       "      <td>18242.500000</td>\n",
       "      <td>145.000000</td>\n",
       "      <td>58.900000</td>\n",
       "      <td>1.200000</td>\n",
       "    </tr>\n",
       "    <tr>\n",
       "      <th>75%</th>\n",
       "      <td>2018.000000</td>\n",
       "      <td>15299.000000</td>\n",
       "      <td>31060.000000</td>\n",
       "      <td>145.000000</td>\n",
       "      <td>65.700000</td>\n",
       "      <td>1.500000</td>\n",
       "    </tr>\n",
       "    <tr>\n",
       "      <th>max</th>\n",
       "      <td>2060.000000</td>\n",
       "      <td>54995.000000</td>\n",
       "      <td>177644.000000</td>\n",
       "      <td>580.000000</td>\n",
       "      <td>201.800000</td>\n",
       "      <td>5.000000</td>\n",
       "    </tr>\n",
       "  </tbody>\n",
       "</table>\n",
       "</div>"
      ],
      "text/plain": [
       "               year         price        mileage           tax           mpg  \\\n",
       "count  17966.000000  17966.000000   17966.000000  17966.000000  17966.000000   \n",
       "mean    2016.866470  12279.534844   23362.608761    113.329456     57.906980   \n",
       "std        2.050336   4741.343657   19472.054349     62.012456     10.125696   \n",
       "min     1996.000000    495.000000       1.000000      0.000000     20.800000   \n",
       "25%     2016.000000   8999.000000    9987.000000     30.000000     52.300000   \n",
       "50%     2017.000000  11291.000000   18242.500000    145.000000     58.900000   \n",
       "75%     2018.000000  15299.000000   31060.000000    145.000000     65.700000   \n",
       "max     2060.000000  54995.000000  177644.000000    580.000000    201.800000   \n",
       "\n",
       "         engineSize  \n",
       "count  17966.000000  \n",
       "mean       1.350807  \n",
       "std        0.432367  \n",
       "min        0.000000  \n",
       "25%        1.000000  \n",
       "50%        1.200000  \n",
       "75%        1.500000  \n",
       "max        5.000000  "
      ]
     },
     "execution_count": 20,
     "metadata": {},
     "output_type": "execute_result"
    }
   ],
   "source": [
    "# statistical information about the dataset\n",
    "df.describe()"
   ]
  },
  {
   "cell_type": "code",
   "execution_count": 93,
   "id": "1e4a9cbf",
   "metadata": {},
   "outputs": [
    {
     "data": {
      "text/plain": [
       "Text(0.5, 1.0, 'Boxplot: Mileage')"
      ]
     },
     "execution_count": 93,
     "metadata": {},
     "output_type": "execute_result"
    },
    {
     "data": {
      "image/png": "[encoded data removed]",
      "text/plain": [
       "<Figure size 576x396 with 1 Axes>"
      ]
     },
     "metadata": {},
     "output_type": "display_data"
    }
   ],
   "source": [
    "# Checking the value of standard deviation as for mileage it is very high\n",
    "plt.boxplot(df[\"mileage\"], vert=False)\n",
    "plt.xlabel(\"Mileage\")\n",
    "plt.title(\"Boxplot: Mileage\")"
   ]
  },
  {
   "cell_type": "code",
   "execution_count": 94,
   "id": "582729fb",
   "metadata": {},
   "outputs": [],
   "source": [
    "#Removing outliers from mileage\n",
    "low, high = df[\"mileage\"].quantile([0.05,0.90])\n",
    "mask_ma = df[\"mileage\"].between(low,high)\n",
    "data = df[mask_ma]"
   ]
  },
  {
   "cell_type": "code",
   "execution_count": 97,
   "id": "acb1b82e",
   "metadata": {},
   "outputs": [
    {
     "data": {
      "text/plain": [
       "Text(0.5, 1.0, 'Boxplot : Mileage')"
      ]
     },
     "execution_count": 97,
     "metadata": {},
     "output_type": "execute_result"
    },
    {
     "data": {
      "image/png": "[encoded data removed]",
      "text/plain": [
       "<Figure size 576x396 with 1 Axes>"
      ]
     },
     "metadata": {},
     "output_type": "display_data"
    }
   ],
   "source": [
    "plt.boxplot(x  = data['mileage'] , vert = False)\n",
    "plt.xlabel(\"Mileage\")\n",
    "plt.title(\"Boxplot : Mileage\")"
   ]
  },
  {
   "cell_type": "code",
   "execution_count": 21,
   "id": "97f6bf04",
   "metadata": {},
   "outputs": [
    {
     "data": {
      "text/plain": [
       "model           0\n",
       "year            0\n",
       "price           0\n",
       "transmission    0\n",
       "mileage         0\n",
       "fuelType        0\n",
       "tax             0\n",
       "mpg             0\n",
       "engineSize      0\n",
       "dtype: int64"
      ]
     },
     "execution_count": 21,
     "metadata": {},
     "output_type": "execute_result"
    }
   ],
   "source": [
    "# Identifying null values\n",
    "df.isnull().sum()"
   ]
  },
  {
   "cell_type": "code",
   "execution_count": 24,
   "id": "1753f1d0",
   "metadata": {},
   "outputs": [
    {
     "data": {
      "image/png": "[encoded data removed]",
      "text/plain": [
       "<Figure size 864x720 with 1 Axes>"
      ]
     },
     "metadata": {},
     "output_type": "display_data"
    }
   ],
   "source": [
    "# Exploring categorical data - Models\n",
    "plt.figure(figsize=(12,10))\n",
    "sns.countplot(y='model', data=df)\n",
    "plt.show()"
   ]
  },
  {
   "cell_type": "code",
   "execution_count": 27,
   "id": "3487ad95",
   "metadata": {},
   "outputs": [
    {
     "data": {
      "image/png": "[encoded data removed]",
      "text/plain": [
       "<Figure size 864x720 with 1 Axes>"
      ]
     },
     "metadata": {},
     "output_type": "display_data"
    }
   ],
   "source": [
    "# Exploring categorical data - transmission\n",
    "plt.figure(figsize=(12,10))\n",
    "sns.countplot(x='transmission', data=df)\n",
    "plt.title(\"Transmission types\")\n",
    "plt.show()"
   ]
  },
  {
   "cell_type": "code",
   "execution_count": 28,
   "id": "dd3228d7",
   "metadata": {},
   "outputs": [
    {
     "data": {
      "image/png": "[encoded data removed]",
      "text/plain": [
       "<Figure size 864x720 with 1 Axes>"
      ]
     },
     "metadata": {},
     "output_type": "display_data"
    }
   ],
   "source": [
    "# Exploring categorical data - fuel type\n",
    "plt.figure(figsize=(12,10))\n",
    "sns.countplot(x='fuelType', data=df)\n",
    "plt.title(\"Transmission types\")\n",
    "plt.show()"
   ]
  },
  {
   "cell_type": "code",
   "execution_count": 32,
   "id": "13135d6e",
   "metadata": {},
   "outputs": [
    {
     "data": {
      "text/plain": [
       "[ Fiesta                   6557\n",
       "  Focus                    4588\n",
       "  Kuga                     2225\n",
       "  EcoSport                 1143\n",
       "  C-MAX                     543\n",
       "  Ka+                       531\n",
       "  Mondeo                    526\n",
       "  B-MAX                     355\n",
       "  S-MAX                     296\n",
       "  Grand C-MAX               247\n",
       "  Galaxy                    228\n",
       "  Edge                      208\n",
       "  KA                        199\n",
       "  Puma                       80\n",
       "  Tourneo Custom             69\n",
       "  Grand Tourneo Connect      59\n",
       "  Mustang                    57\n",
       "  Tourneo Connect            33\n",
       "  Fusion                     16\n",
       "  Streetka                    2\n",
       "  Ranger                      1\n",
       "  Escort                      1\n",
       "  Transit Tourneo             1\n",
       " Focus                        1\n",
       " Name: model, dtype: int64]"
      ]
     },
     "execution_count": 32,
     "metadata": {},
     "output_type": "execute_result"
    }
   ],
   "source": [
    "# Exact count of the categorical data - Models\n",
    "[df['model'].value_counts()]"
   ]
  },
  {
   "cell_type": "code",
   "execution_count": 33,
   "id": "1d625c96",
   "metadata": {},
   "outputs": [
    {
     "data": {
      "text/plain": [
       "[Manual       15518\n",
       " Automatic     1361\n",
       " Semi-Auto     1087\n",
       " Name: transmission, dtype: int64]"
      ]
     },
     "execution_count": 33,
     "metadata": {},
     "output_type": "execute_result"
    }
   ],
   "source": [
    "# Exact count of the categorical data - transmission\n",
    "[df['transmission'].value_counts()]"
   ]
  },
  {
   "cell_type": "code",
   "execution_count": 34,
   "id": "bbe68b03",
   "metadata": {},
   "outputs": [
    {
     "data": {
      "text/plain": [
       "[Petrol      12179\n",
       " Diesel       5762\n",
       " Hybrid         22\n",
       " Electric        2\n",
       " Other           1\n",
       " Name: fuelType, dtype: int64]"
      ]
     },
     "execution_count": 34,
     "metadata": {},
     "output_type": "execute_result"
    }
   ],
   "source": [
    "# Exact count of the categorical data - fuelType\n",
    "[df['fuelType'].value_counts()]"
   ]
  },
  {
   "cell_type": "code",
   "execution_count": 35,
   "id": "7a5ea1c6",
   "metadata": {},
   "outputs": [],
   "source": [
    "# EDA of transmission and fuel type on the car price point\n",
    "price = df['price']\n",
    "fuelType = df['fuelType']\n",
    "transmission = df['transmission']"
   ]
  },
  {
   "cell_type": "code",
   "execution_count": 36,
   "id": "202d3461",
   "metadata": {},
   "outputs": [
    {
     "data": {
      "text/plain": [
       "<AxesSubplot:xlabel='transmission', ylabel='price'>"
      ]
     },
     "execution_count": 36,
     "metadata": {},
     "output_type": "execute_result"
    },
    {
     "data": {
      "image/png": "[encoded data removed]",
      "text/plain": [
       "<Figure size 1080x360 with 2 Axes>"
      ]
     },
     "metadata": {},
     "output_type": "display_data"
    }
   ],
   "source": [
    "# realationship of transmission and fuelType to price visualization\n",
    "fig, axes = plt.subplots(1,2, figsize=(15,5), sharey=True)\n",
    "fig.suptitle(\"Visualization categorical data columns of fuel type and transmission\")\n",
    "sns.barplot(x=fuelType , y=price, ax=axes[0])\n",
    "sns.barplot(x=transmission , y=price, ax=axes[1])"
   ]
  },
  {
   "cell_type": "raw",
   "id": "403e9a2f",
   "metadata": {},
   "source": [
    "From the above visualization we can understand that hybrid vehicles have a high price and automatic vehicles have a slightly high price as well."
   ]
  },
  {
   "cell_type": "markdown",
   "id": "c832ef94",
   "metadata": {},
   "source": [
    "### Categorical values have high importance with respect to the price of the vehicle so we will transform these values using encoding technique"
   ]
  },
  {
   "cell_type": "code",
   "execution_count": 39,
   "id": "c6938915",
   "metadata": {},
   "outputs": [],
   "source": [
    "df.replace({\"transmission\":{'Manual':0,'Automatic':1,'Semi-Auto':2 }},inplace=True)\n",
    "df.replace({\"fuelType\":{'Petrol':0,'Diesel':1,'Hybrid':2, 'Electric':3, 'Other':4 }},inplace=True)"
   ]
  },
  {
   "cell_type": "code",
   "execution_count": 40,
   "id": "6ff88a19",
   "metadata": {},
   "outputs": [
    {
     "data": {
      "text/html": [
       "<div>\n",
       "<style scoped>\n",
       "    .dataframe tbody tr th:only-of-type {\n",
       "        vertical-align: middle;\n",
       "    }\n",
       "\n",
       "    .dataframe tbody tr th {\n",
       "        vertical-align: top;\n",
       "    }\n",
       "\n",
       "    .dataframe thead th {\n",
       "        text-align: right;\n",
       "    }\n",
       "</style>\n",
       "<table border=\"1\" class=\"dataframe\">\n",
       "  <thead>\n",
       "    <tr style=\"text-align: right;\">\n",
       "      <th></th>\n",
       "      <th>year</th>\n",
       "      <th>price</th>\n",
       "      <th>transmission</th>\n",
       "      <th>mileage</th>\n",
       "      <th>fuelType</th>\n",
       "      <th>tax</th>\n",
       "      <th>mpg</th>\n",
       "      <th>engineSize</th>\n",
       "    </tr>\n",
       "  </thead>\n",
       "  <tbody>\n",
       "    <tr>\n",
       "      <th>0</th>\n",
       "      <td>2017</td>\n",
       "      <td>12000</td>\n",
       "      <td>1</td>\n",
       "      <td>15944</td>\n",
       "      <td>0</td>\n",
       "      <td>150</td>\n",
       "      <td>57.7</td>\n",
       "      <td>1.0</td>\n",
       "    </tr>\n",
       "    <tr>\n",
       "      <th>1</th>\n",
       "      <td>2018</td>\n",
       "      <td>14000</td>\n",
       "      <td>0</td>\n",
       "      <td>9083</td>\n",
       "      <td>0</td>\n",
       "      <td>150</td>\n",
       "      <td>57.7</td>\n",
       "      <td>1.0</td>\n",
       "    </tr>\n",
       "    <tr>\n",
       "      <th>2</th>\n",
       "      <td>2017</td>\n",
       "      <td>13000</td>\n",
       "      <td>0</td>\n",
       "      <td>12456</td>\n",
       "      <td>0</td>\n",
       "      <td>150</td>\n",
       "      <td>57.7</td>\n",
       "      <td>1.0</td>\n",
       "    </tr>\n",
       "    <tr>\n",
       "      <th>3</th>\n",
       "      <td>2019</td>\n",
       "      <td>17500</td>\n",
       "      <td>0</td>\n",
       "      <td>10460</td>\n",
       "      <td>0</td>\n",
       "      <td>145</td>\n",
       "      <td>40.3</td>\n",
       "      <td>1.5</td>\n",
       "    </tr>\n",
       "    <tr>\n",
       "      <th>4</th>\n",
       "      <td>2019</td>\n",
       "      <td>16500</td>\n",
       "      <td>1</td>\n",
       "      <td>1482</td>\n",
       "      <td>0</td>\n",
       "      <td>145</td>\n",
       "      <td>48.7</td>\n",
       "      <td>1.0</td>\n",
       "    </tr>\n",
       "  </tbody>\n",
       "</table>\n",
       "</div>"
      ],
      "text/plain": [
       "   year  price  transmission  mileage  fuelType  tax   mpg  engineSize\n",
       "0  2017  12000             1    15944         0  150  57.7         1.0\n",
       "1  2018  14000             0     9083         0  150  57.7         1.0\n",
       "2  2017  13000             0    12456         0  150  57.7         1.0\n",
       "3  2019  17500             0    10460         0  145  40.3         1.5\n",
       "4  2019  16500             1     1482         0  145  48.7         1.0"
      ]
     },
     "execution_count": 40,
     "metadata": {},
     "output_type": "execute_result"
    }
   ],
   "source": [
    "# Dropping model as it is a categorical variable with no direct relation to the price point prediction\n",
    "df = df.drop('model', axis=1)\n",
    "df.head()"
   ]
  },
  {
   "cell_type": "code",
   "execution_count": 41,
   "id": "93d7b48b",
   "metadata": {},
   "outputs": [
    {
     "data": {
      "image/png": "[encoded data removed]",
      "text/plain": [
       "<Figure size 720x504 with 2 Axes>"
      ]
     },
     "metadata": {},
     "output_type": "display_data"
    }
   ],
   "source": [
    "# Heatmap visualization to find correlation between features and the target column\n",
    "plt.figure(figsize=(10,7))\n",
    "sns.heatmap(df.corr(),annot=True )\n",
    "plt.title('Correlation between the columns')\n",
    "plt.show()"
   ]
  },
  {
   "cell_type": "markdown",
   "id": "1fb6d650",
   "metadata": {},
   "source": [
    "Since lighter values shows high correlation and darker values shows high correlation, we csn deduce from the heatmap that year, engine size and tax have high correlation to the target variable which is the price while transmission and fuel type also shows significant correlation with the price point"
   ]
  },
  {
   "cell_type": "code",
   "execution_count": 43,
   "id": "a5a0b4e7",
   "metadata": {},
   "outputs": [
    {
     "data": {
      "text/plain": [
       "mileage        -0.530659\n",
       "mpg            -0.346419\n",
       "fuelType        0.209225\n",
       "transmission    0.231806\n",
       "tax             0.406857\n",
       "engineSize      0.411178\n",
       "year            0.636009\n",
       "price           1.000000\n",
       "Name: price, dtype: float64"
      ]
     },
     "execution_count": 43,
     "metadata": {},
     "output_type": "execute_result"
    }
   ],
   "source": [
    "# Quantifying correlation of different features\n",
    "df.corr()['price'].sort_values()"
   ]
  },
  {
   "cell_type": "code",
   "execution_count": 45,
   "id": "4120fc65",
   "metadata": {},
   "outputs": [
    {
     "data": {
      "text/plain": [
       "<AxesSubplot:title={'center':'Correlation between year and price'}, xlabel='price', ylabel='year'>"
      ]
     },
     "execution_count": 45,
     "metadata": {},
     "output_type": "execute_result"
    },
    {
     "data": {
      "image/png": "[encoded data removed]",
      "text/plain": [
       "<Figure size 504x360 with 1 Axes>"
      ]
     },
     "metadata": {},
     "output_type": "display_data"
    }
   ],
   "source": [
    "# visulization of most correlated feature using regression plot\n",
    "fig = plt.figure(figsize=(7,5))\n",
    "plt.title('Correlation between year and price')\n",
    "sns.regplot(x='price', y='year', data=df)"
   ]
  },
  {
   "cell_type": "code",
   "execution_count": 46,
   "id": "7cc23b78",
   "metadata": {},
   "outputs": [],
   "source": [
    "# Splitting data set into train and test segments \n",
    "X = df.drop('price', axis=1)\n",
    "y = df['price']"
   ]
  },
  {
   "cell_type": "code",
   "execution_count": 47,
   "id": "f6c78a53",
   "metadata": {},
   "outputs": [
    {
     "data": {
      "text/plain": [
       "(17966, 7)"
      ]
     },
     "execution_count": 47,
     "metadata": {},
     "output_type": "execute_result"
    }
   ],
   "source": [
    "# Confirming shape of X and y which are features and target variables\n",
    "X.shape"
   ]
  },
  {
   "cell_type": "code",
   "execution_count": 48,
   "id": "1aa2b811",
   "metadata": {},
   "outputs": [
    {
     "data": {
      "text/plain": [
       "(17966,)"
      ]
     },
     "execution_count": 48,
     "metadata": {},
     "output_type": "execute_result"
    }
   ],
   "source": [
    "y.shape"
   ]
  },
  {
   "cell_type": "code",
   "execution_count": 50,
   "id": "0d021f08",
   "metadata": {},
   "outputs": [],
   "source": [
    "X_train, X_test, y_train, y_test = train_test_split(X, y, test_size=0.3, random_state=42)"
   ]
  },
  {
   "cell_type": "code",
   "execution_count": 52,
   "id": "7e019d68",
   "metadata": {},
   "outputs": [
    {
     "name": "stdout",
     "output_type": "stream",
     "text": [
      "Shape of X_train is: (12576, 7)\n",
      "Shape of X_test is: (5390, 7)\n",
      "Shape of y_train is: (12576,)\n",
      "Shape of y_test is: (5390,)\n"
     ]
    }
   ],
   "source": [
    "# Confirming shape of X and y which are features and target variables\n",
    "print(\"Shape of X_train is:\", X_train.shape)\n",
    "print(\"Shape of X_test is:\", X_test.shape)\n",
    "print(\"Shape of y_train is:\", y_train.shape)\n",
    "print(\"Shape of y_test is:\", y_test.shape)"
   ]
  },
  {
   "cell_type": "code",
   "execution_count": 53,
   "id": "bd06d2a9",
   "metadata": {},
   "outputs": [],
   "source": [
    "# standardizing features to predict the price point of the ford vehicle\n",
    "scaler = StandardScaler()"
   ]
  },
  {
   "cell_type": "code",
   "execution_count": 54,
   "id": "c02b4cee",
   "metadata": {},
   "outputs": [],
   "source": [
    "x_train = scaler.fit_transform(X_train)\n",
    "x_test = scaler.fit_transform(X_test)"
   ]
  },
  {
   "cell_type": "markdown",
   "id": "9fe88bd5",
   "metadata": {},
   "source": [
    "## Implementation of different predictive regression models "
   ]
  },
  {
   "cell_type": "code",
   "execution_count": 55,
   "id": "e0bda93d",
   "metadata": {},
   "outputs": [],
   "source": [
    "# Implementing Regression models - Linear regression\n",
    "lin_reg = LinearRegression()\n",
    "lin_reg.fit(X_train, y_train)\n",
    "linreg_predict = lin_reg.predict(X_test)"
   ]
  },
  {
   "cell_type": "code",
   "execution_count": 56,
   "id": "c5b78d4c",
   "metadata": {},
   "outputs": [],
   "source": [
    "# measuring performance using performance metrics\n",
    "linreg_mae = mean_absolute_error(y_test, linreg_predict)\n",
    "linreg_r2 = r2_score(y_test, linreg_predict) # range is between 0-1"
   ]
  },
  {
   "cell_type": "code",
   "execution_count": 57,
   "id": "12a76c07",
   "metadata": {},
   "outputs": [
    {
     "name": "stdout",
     "output_type": "stream",
     "text": [
      "MAE of linear regression model is: 1768.4913720304828\n",
      "R2 of linear regression model is: 0.7312941373144171\n"
     ]
    }
   ],
   "source": [
    "print(\"MAE of linear regression model is:\",linreg_mae)\n",
    "print(\"R2 of linear regression model is:\",linreg_r2)"
   ]
  },
  {
   "cell_type": "code",
   "execution_count": 58,
   "id": "93d5d4aa",
   "metadata": {},
   "outputs": [],
   "source": [
    "# Implementing cross validation to see the model accuracy\n",
    "linear_reg_score = cross_val_score(lin_reg, x_test,y_test, cv=4)"
   ]
  },
  {
   "cell_type": "code",
   "execution_count": 59,
   "id": "f8e36b9d",
   "metadata": {},
   "outputs": [
    {
     "name": "stdout",
     "output_type": "stream",
     "text": [
      "Linear regression model accuracy is:72.99508724346919\n"
     ]
    }
   ],
   "source": [
    "print(\"Linear regression model accuracy is:{}\".format(linear_reg_score.mean()*100))"
   ]
  },
  {
   "cell_type": "code",
   "execution_count": 61,
   "id": "b7b04688",
   "metadata": {},
   "outputs": [],
   "source": [
    "# Implementing Regression models - Decision tree regressor\n",
    "decision_tree = DecisionTreeRegressor()\n",
    "decision_tree.fit(X_train, y_train)\n",
    "dtree_pred = decision_tree.predict(X_test)"
   ]
  },
  {
   "cell_type": "code",
   "execution_count": 64,
   "id": "231256ae",
   "metadata": {},
   "outputs": [],
   "source": [
    "# measuring performance using performance metrics\n",
    "dtree_mae = mean_absolute_error(y_test, dtree_pred)\n",
    "dtree_r2 = r2_score(y_test, dtree_pred) # range is between 0-1"
   ]
  },
  {
   "cell_type": "code",
   "execution_count": 65,
   "id": "89d0a56d",
   "metadata": {},
   "outputs": [
    {
     "name": "stdout",
     "output_type": "stream",
     "text": [
      "MAE of linear regression model is: 1202.128416821274\n",
      "R2 of linear regression model is: 0.8502977602259848\n"
     ]
    }
   ],
   "source": [
    "print(\"MAE of linear regression model is:\",dtree_mae)\n",
    "print(\"R2 of linear regression model is:\",dtree_r2)"
   ]
  },
  {
   "cell_type": "code",
   "execution_count": 71,
   "id": "15966339",
   "metadata": {},
   "outputs": [
    {
     "name": "stdout",
     "output_type": "stream",
     "text": [
      "xgb regression model accuracy is:81.57007174159627\n"
     ]
    }
   ],
   "source": [
    "# Implementing cross validation to see the model accuracy\n",
    "dtree_reg_score = cross_val_score(decision_tree, x_test,y_test, cv=4)\n",
    "print(\"xgb regression model accuracy is:{}\".format(dtree_reg_score.mean()*100))"
   ]
  },
  {
   "cell_type": "code",
   "execution_count": 66,
   "id": "ec451ad6",
   "metadata": {},
   "outputs": [],
   "source": [
    "# Implementing Regression models - XGBoost\n",
    "xgb = XGBRegressor()\n",
    "xgb.fit(X_train, y_train)\n",
    "xgb_pred = xgb.predict((X_test))"
   ]
  },
  {
   "cell_type": "code",
   "execution_count": 67,
   "id": "bdf7711b",
   "metadata": {},
   "outputs": [],
   "source": [
    "# measuring performance using performance metrics\n",
    "xgb_mae = mean_absolute_error(y_test, xgb_pred)\n",
    "xgb_r2 = r2_score(y_test, xgb_pred) # range is between 0-1"
   ]
  },
  {
   "cell_type": "code",
   "execution_count": 68,
   "id": "80874651",
   "metadata": {},
   "outputs": [
    {
     "name": "stdout",
     "output_type": "stream",
     "text": [
      "MAE of linear regression model is: 936.1000546711938\n",
      "R2 of linear regression model is: 0.9115365181733156\n"
     ]
    }
   ],
   "source": [
    "print(\"MAE of linear regression model is:\",xgb_mae)\n",
    "print(\"R2 of linear regression model is:\",xgb_r2)"
   ]
  },
  {
   "cell_type": "code",
   "execution_count": 70,
   "id": "ec2c8a28",
   "metadata": {},
   "outputs": [
    {
     "name": "stdout",
     "output_type": "stream",
     "text": [
      "xgb regression model accuracy is:89.17705736898864\n"
     ]
    }
   ],
   "source": [
    "# Implementing cross validation to see the model accuracy\n",
    "xgb_reg_score = cross_val_score(xgb, x_test,y_test, cv=4)\n",
    "print(\"xgb regression model accuracy is:{}\".format(xgb_reg_score.mean()*100))"
   ]
  },
  {
   "cell_type": "markdown",
   "id": "9669d3d3",
   "metadata": {},
   "source": [
    "From the above-mentioned implementation we can see that after implementing 3 different predictive regression models namely:\n",
    "- linear regression: accuracy= 72.99, r2_score = 0.73\n",
    "- Decision tree regression: accuracy= 81.57, r2_score = 0.85\n",
    "- XGBoost regression: accuracy= 89.18, r2_score = 0.91\n",
    "\n",
    "XGBoost predictive regression models trains and fits best on the Ford vehicle dataset for car price prediction"
   ]
  },
  {
   "cell_type": "markdown",
   "id": "6d1f88b9",
   "metadata": {},
   "source": [
    "## Predicting car price of ford vehicles after training the models using random datasets of the dame domain"
   ]
  },
  {
   "cell_type": "code",
   "execution_count": 74,
   "id": "9a1f379d",
   "metadata": {},
   "outputs": [
    {
     "data": {
      "text/plain": [
       "Index(['year', 'price', 'transmission', 'mileage', 'fuelType', 'tax', 'mpg',\n",
       "       'engineSize'],\n",
       "      dtype='object')"
      ]
     },
     "execution_count": 74,
     "metadata": {},
     "output_type": "execute_result"
    }
   ],
   "source": [
    "df.columns"
   ]
  },
  {
   "cell_type": "code",
   "execution_count": 75,
   "id": "294ae8a9",
   "metadata": {},
   "outputs": [
    {
     "data": {
      "text/html": [
       "<div>\n",
       "<style scoped>\n",
       "    .dataframe tbody tr th:only-of-type {\n",
       "        vertical-align: middle;\n",
       "    }\n",
       "\n",
       "    .dataframe tbody tr th {\n",
       "        vertical-align: top;\n",
       "    }\n",
       "\n",
       "    .dataframe thead th {\n",
       "        text-align: right;\n",
       "    }\n",
       "</style>\n",
       "<table border=\"1\" class=\"dataframe\">\n",
       "  <thead>\n",
       "    <tr style=\"text-align: right;\">\n",
       "      <th></th>\n",
       "      <th>year</th>\n",
       "      <th>price</th>\n",
       "      <th>transmission</th>\n",
       "      <th>mileage</th>\n",
       "      <th>fuelType</th>\n",
       "      <th>tax</th>\n",
       "      <th>mpg</th>\n",
       "      <th>engineSize</th>\n",
       "    </tr>\n",
       "  </thead>\n",
       "  <tbody>\n",
       "    <tr>\n",
       "      <th>0</th>\n",
       "      <td>2017</td>\n",
       "      <td>12000</td>\n",
       "      <td>1</td>\n",
       "      <td>15944</td>\n",
       "      <td>0</td>\n",
       "      <td>150</td>\n",
       "      <td>57.7</td>\n",
       "      <td>1.0</td>\n",
       "    </tr>\n",
       "    <tr>\n",
       "      <th>1</th>\n",
       "      <td>2018</td>\n",
       "      <td>14000</td>\n",
       "      <td>0</td>\n",
       "      <td>9083</td>\n",
       "      <td>0</td>\n",
       "      <td>150</td>\n",
       "      <td>57.7</td>\n",
       "      <td>1.0</td>\n",
       "    </tr>\n",
       "    <tr>\n",
       "      <th>2</th>\n",
       "      <td>2017</td>\n",
       "      <td>13000</td>\n",
       "      <td>0</td>\n",
       "      <td>12456</td>\n",
       "      <td>0</td>\n",
       "      <td>150</td>\n",
       "      <td>57.7</td>\n",
       "      <td>1.0</td>\n",
       "    </tr>\n",
       "    <tr>\n",
       "      <th>3</th>\n",
       "      <td>2019</td>\n",
       "      <td>17500</td>\n",
       "      <td>0</td>\n",
       "      <td>10460</td>\n",
       "      <td>0</td>\n",
       "      <td>145</td>\n",
       "      <td>40.3</td>\n",
       "      <td>1.5</td>\n",
       "    </tr>\n",
       "    <tr>\n",
       "      <th>4</th>\n",
       "      <td>2019</td>\n",
       "      <td>16500</td>\n",
       "      <td>1</td>\n",
       "      <td>1482</td>\n",
       "      <td>0</td>\n",
       "      <td>145</td>\n",
       "      <td>48.7</td>\n",
       "      <td>1.0</td>\n",
       "    </tr>\n",
       "  </tbody>\n",
       "</table>\n",
       "</div>"
      ],
      "text/plain": [
       "   year  price  transmission  mileage  fuelType  tax   mpg  engineSize\n",
       "0  2017  12000             1    15944         0  150  57.7         1.0\n",
       "1  2018  14000             0     9083         0  150  57.7         1.0\n",
       "2  2017  13000             0    12456         0  150  57.7         1.0\n",
       "3  2019  17500             0    10460         0  145  40.3         1.5\n",
       "4  2019  16500             1     1482         0  145  48.7         1.0"
      ]
     },
     "execution_count": 75,
     "metadata": {},
     "output_type": "execute_result"
    }
   ],
   "source": [
    "df.head(5)"
   ]
  },
  {
   "cell_type": "code",
   "execution_count": 85,
   "id": "6d874d40",
   "metadata": {},
   "outputs": [],
   "source": [
    "data = {'year':2018, 'transmission':0, 'mileage':9083, 'fuelType':0, 'tax':150, 'mpg':57.7,\n",
    "       'engineSize':1.0}"
   ]
  },
  {
   "cell_type": "code",
   "execution_count": 86,
   "id": "5e6ead15",
   "metadata": {},
   "outputs": [
    {
     "data": {
      "text/html": [
       "<div>\n",
       "<style scoped>\n",
       "    .dataframe tbody tr th:only-of-type {\n",
       "        vertical-align: middle;\n",
       "    }\n",
       "\n",
       "    .dataframe tbody tr th {\n",
       "        vertical-align: top;\n",
       "    }\n",
       "\n",
       "    .dataframe thead th {\n",
       "        text-align: right;\n",
       "    }\n",
       "</style>\n",
       "<table border=\"1\" class=\"dataframe\">\n",
       "  <thead>\n",
       "    <tr style=\"text-align: right;\">\n",
       "      <th></th>\n",
       "      <th>year</th>\n",
       "      <th>transmission</th>\n",
       "      <th>mileage</th>\n",
       "      <th>fuelType</th>\n",
       "      <th>tax</th>\n",
       "      <th>mpg</th>\n",
       "      <th>engineSize</th>\n",
       "    </tr>\n",
       "  </thead>\n",
       "  <tbody>\n",
       "    <tr>\n",
       "      <th>0</th>\n",
       "      <td>2018</td>\n",
       "      <td>0</td>\n",
       "      <td>9083</td>\n",
       "      <td>0</td>\n",
       "      <td>150</td>\n",
       "      <td>57.7</td>\n",
       "      <td>1.0</td>\n",
       "    </tr>\n",
       "  </tbody>\n",
       "</table>\n",
       "</div>"
      ],
      "text/plain": [
       "   year  transmission  mileage  fuelType  tax   mpg  engineSize\n",
       "0  2018             0     9083         0  150  57.7         1.0"
      ]
     },
     "execution_count": 86,
     "metadata": {},
     "output_type": "execute_result"
    }
   ],
   "source": [
    "index=[0]\n",
    "new_df = pd.DataFrame(data,index)\n",
    "new_df"
   ]
  },
  {
   "cell_type": "code",
   "execution_count": 91,
   "id": "58c7856e",
   "metadata": {},
   "outputs": [
    {
     "name": "stdout",
     "output_type": "stream",
     "text": [
      "The estimated cost of the car is: [13356.713]\n"
     ]
    }
   ],
   "source": [
    "carPrice_pred = xgb.predict(new_df)\n",
    "print(\"The estimated cost of the car is:\",carPrice_pred)"
   ]
  },
  {
   "cell_type": "markdown",
   "id": "c8a31375",
   "metadata": {},
   "source": [
    "Created a dummy data frame using data from one of the reocrds in ford dataset to see the price prediction. the SGBoost algorithms works really good and helps in predicting close to real price of the car"
   ]
  },
  {
   "cell_type": "code",
   "execution_count": null,
   "id": "7181c4a2",
   "metadata": {},
   "outputs": [],
   "source": []
  }
 ],
 "metadata": {
  "kernelspec": {
   "display_name": "Python 3 (ipykernel)",
   "language": "python",
   "name": "python3"
  },
  "language_info": {
   "codemirror_mode": {
    "name": "ipython",
    "version": 3
   },
   "file_extension": ".py",
   "mimetype": "text/x-python",
   "name": "python",
   "nbconvert_exporter": "python",
   "pygments_lexer": "ipython3",
   "version": "3.9.7"
  }
 },
 "nbformat": 4,
 "nbformat_minor": 5
}
